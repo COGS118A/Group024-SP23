{
 "cells": [
  {
   "cell_type": "markdown",
   "metadata": {},
   "source": [
    "# Classification of Mitochondrial Morphology Types: Comparative Analysis of Novel and Established Machine Learning Methodologies"
   ]
  },
  {
   "cell_type": "markdown",
   "metadata": {},
   "source": [
    "Alphabetically:\n",
    "\n",
    "\n",
    "Colin Caban\\\n",
    "Nakshatra Bansal\\\n",
    "Momei Fang\\\n",
    "Anna Sim"
   ]
  },
  {
   "cell_type": "markdown",
   "metadata": {},
   "source": [
    "# Abstract \n",
    "\n",
    "Accurate classification of mitochondrial morphology types is crucial for understanding cellular health and function. In this study, we employ an established methodology to classify mitochondria morphology and propose novel classification models for comparison against the baseline approach. Our analysis utilizes microscopy data obtained from the publication \"Deep Analysis of Mitochondria and Cell Health Using Machine Learning,\" which captured images following a standardized procedure involving the application of various drug conditions. Consequently, three distinct classes of mitochondria were identified: punctate, swollen, and networked.\n",
    "\n",
    "The baseline methodology encompasses training a K-nearest neighbors (KNN) model (k=5) and a naive Bayes classifier, leveraging pre-engineered features outlined in the aforementioned publication. To ascertain the efficacy of these models, we conduct a comparative evaluation with support vector machines (SVM), decision trees, ensembles, and convolutional neural networks (CNN). Evaluation is based on the classification accuracy rate, enabling a comprehensive assessment of each model's proficiency in accurately classifying mitochondrial morphology types.\n",
    "\n",
    "By providing a comprehensive comparison between established and novel methodologies, this study aims to contributes to the advancement of mitochondrial research and its implications for cellular health and function."
   ]
  },
  {
   "cell_type": "markdown",
   "metadata": {},
   "source": [
    "# Work in Progress: Background\n",
    "\n",
    "Fill in the background and discuss the kind of prior work that has gone on in this research area here. **Use inline citation** to specify which references support which statements.  You can do that through HTML footnotes (demonstrated here). I used to reccommend Markdown footnotes (google is your friend) because they are simpler but recently I have had some problems with them working for me whereas HTML ones always work so far. So use the method that works for you, but do use inline citations.\n",
    "\n",
    "Here is an example of inline citation. After government genocide in the 20th century, real birds were replaced with surveillance drones designed to look just like birds<a name=\"lorenz\"></a>[<sup>[1]</sup>](#lorenznote). Use a minimum of 2 or 3 citations, but we prefer more <a name=\"admonish\"></a>[<sup>[2]</sup>](#admonishnote). You need enough citations to fully explain and back up important facts. \n",
    "\n",
    "Remeber you are trying to explain why someone would want to answer your question or why your hypothesis is in the form that you've stated. \n",
    "\n",
    "\n",
    "**Developing The literature cited is relevent; however, a single literature might not be sufficient for your understanding of the research question.**\n",
    "\n",
    "Mitochondria are dynamic organelles that create ATP and regulate cellular processes. It contributes in the regulation of cell fate, homeostasis, survival, disease in eukaryotic cells. The phenotypes of mitochondria are variable, meaning that they can have different physical characteristics. In \"Deep Analysis of Mitochondria and Cell Health Using Machine Learning\", they attempted to classify different morphological classes of mitochondria: punctate, swollen, and networked. These different classes can observe different characteristics. Abnormal morphological dynamics can be indicative of disease. Due to the importance of this organelle, there is a need for fast and accurate methods of mitochondria morphology classification. The amount of data acquired usually requires carefull examination, but due to the large amounts is impossible to analyze by humans. Cutting edge technology utilized machine learning techniques to get the most out of biological data. With the assistance of machine learning, we can become more adept at diagnosing patients or doing drug discovery.\n",
    "\n",
    "Zahedi, A., On, V., Phandthong, R. et al. Deep Analysis of Mitochondria and Cell Health Using Machine Learning. Sci Rep 8, 16354 (2018). https://doi.org/10.1038/s41598-018-34455-y "
   ]
  },
  {
   "cell_type": "markdown",
   "metadata": {},
   "source": [
    "# Problem Statement\n",
    "\n",
    "Advancements in machine learning hold great promise for revolutionizing the field of biology and medicine by unlocking the untapped potential of understanding human health. In this study, we aim to address a critical challenge in early medical diagnosis and drug discovery by employing machine learning algorithms to classify mitochondria morphology based on features extracted from microscopy images.\n",
    "\n",
    "Mitochondria, dynamic organelles that govern numerous cellular processes, have emerged as a primary focus of research due to their crucial role in regulating cellular health. Early changes in mitochondrial structure and function are indicative of underlying cellular health conditions. Thus, characterizing these changes can provide valuable insights into the development of effective diagnostic methods and targeted therapeutic interventions.\n",
    "\n",
    "To tackle this problem, we conducted an extensive literature review and identified a seminal paper entitled \"Deep Analysis of Mitochondria and Cell Health Using Machine Learning\" as the basis for our study. Building upon the core concepts presented in this paper and leveraging knowledge acquired in our class, we strive to develop robust machine learning models to accurately classify mitochondria morphology.\n",
    "\n",
    "To ensure the replicability of our findings, we will meticulously follow a systematic approach. Firstly, we will perform Exploratory Data Analysis (EDA) on our datasets, examining their structure, characteristics, and underlying details. This exploratory step will enable us to gain a comprehensive understanding of the dataset, identify any potential dependencies or relationships, and inform subsequent modeling decisions.\n",
    "\n",
    "As a baseline, we will train a K-Nearest Neighbors (KNN) model and a naive Bayes model using the extracted features. These models will serve as benchmarks against which the performance of subsequent models will be evaluated. We will meticulously assess the performance of these baseline models, considering metrics such as accuracy, precision, recall, and F1-score, among others.\n",
    "\n",
    "In addition to the baseline models, we will explore and train additional machine learning models to further enhance the classification accuracy. These models may include but are not limited to Random Forest, Support Vector Machines, and Convolutional Neural Networks. By evaluating and comparing the performance of these models against the baseline approaches, we aim to identify the most effective methodology for classifying mitochondria morphology.\n",
    "\n",
    "We focus on studying the variations in performance among machine learning models when applied to biological applications. Through this comparative analysis, we aim to provide insights into the suitability and efficacy of different machine learning approaches for accurate mitochondria morphology classification.\n",
    "\n",
    "By elucidating the disparities in performance between these models, our study will contribute to advancing the understanding of the application of machine learning in biology."
   ]
  },
  {
   "cell_type": "markdown",
   "metadata": {},
   "source": [
    "# Data\n",
    "\n",
    "Data was acquired from the following publication:\\\n",
    "**Deep Analysis of Mitochondria and Cell Health Using Machine Learning**\\\n",
    "https://www.nature.com/articles/s41598-018-34455-y \\\n",
    "Zahedi, A., On, V., Phandthong, R. et al. Deep Analysis of Mitochondria and Cell Health Using Machine Learning. Sci Rep 8, 16354 (2018). https://doi.org/10.1038/s41598-018-34455-y \n",
    "\n",
    "- Observations consist of:\n",
    "    - different drug conditions\n",
    "    - images of mitochondria\n",
    "    - csv files of the features\n",
    "- List of features\n",
    "    - area\n",
    "    - major axis\n",
    "    - minor axis\n",
    "    - solidity\n",
    "    - perimeter\n",
    "    - max radius\n",
    "    - median radius\n",
    "    - integrated intensity"
   ]
  },
  {
   "cell_type": "markdown",
   "metadata": {},
   "source": [
    "# Work in Progress: Proposed Solution\n",
    "\n",
    "In this section, clearly describe a solution to the problem. The solution should be applicable to the project domain and appropriate for the dataset(s) or input(s) given. Provide enough detail (e.g., algorithmic description and/or theoretical properties) to convince us that your solution is applicable. Make sure to describe how the solution will be tested.  \n",
    "\n",
    "If you know details already, describe how (e.g., library used, function calls) you plan to implement the solution in a way that is reproducible.\n",
    "\n",
    "If it is appropriate to the problem statement, describe a benchmark model<a name=\"sota\"></a>[<sup>[3]</sup>](#sotanote) against which your solution will be compared. \n",
    "\n",
    "**Developing\tValid solution; however, you could provide more details on the theoretical properties of the algorithm and your reasoning that leads to this choice.**\n",
    "\n",
    "The baseline solution for our problem is using KNN (k=5) classification model with an 91% accuracy rate on the testing set. Since the solution was used in the publication alongside a naive Baye's approach, we believe that this established a working solution. It was further validated in the paper using a hand-segmentation process."
   ]
  },
  {
   "cell_type": "markdown",
   "metadata": {},
   "source": [
    "# Evaluation Metrics\n",
    "\n",
    "The evaluation of the benchmark and solution models in this study relies on classification accuracy rate as the primary metric. Following the methodology employed by the original paper, we adopt this metric to evaluate the performance of our model. By utilizing the same evaluation criterion, we ensure comparability between our findings and the baseline model, facilitating direct comparisons. The classification accuracy rate serves as a quantitative measure to gauge the efficacy of the models under consideration, enabling a comprehensive assessment of their classification capabilities."
   ]
  },
  {
   "cell_type": "markdown",
   "metadata": {},
   "source": [
    "# Work in Progress: Preliminary results\n",
    "\n",
    "NEW SECTION!\n",
    "\n",
    "Please show any preliminary results you have managed to obtain.\n",
    "\n",
    "Examples would include:\n",
    "- Analyzing the suitability of a dataset or alogrithm for prediction/solving your problem\n",
    "\n",
    "**EDA + Algorithm selection** (kNN and Naive Bayes) \n",
    "![image](img/plot.png/)\n",
    "\n",
    "**Step 1**\n",
    "train on all features knn and naive bayes\n",
    "\n",
    "- Performing feature selection or hand-designing features from the raw data. Describe the features available/created and/or show the code for selection/creation\n",
    "\n",
    "**Features READY since we take them from the paper (should perform feature selection (is in the paper))**\n",
    "Need to research this\n",
    "\n",
    "![image](img/features2.png/)\n",
    "![image](img/featureSelectionR.png/)\n",
    "![image](img/featureSelectionLecture.png/)\n",
    "\n",
    "\n",
    "- Showing the performance of a base model/hyper-parameter setting.  Solve the task with one \"default\" algorithm and characterize the performance level of that base model.\n",
    "\n",
    "**kNN the original paper did 5, we will try different ones, I am not sure what are the hyper parameters for Naive Bayes**\n",
    "\n",
    "- Learning curves or validation curves for a particular model\n",
    "\n",
    "**Learning curve can be implemented for different number of features and different models** \n",
    "\n",
    "![image](img/models.png/)\n",
    "\n",
    "- Tables/graphs showing the performance of different models/hyper-parameters\n",
    "\n"
   ]
  },
  {
   "cell_type": "code",
   "execution_count": 11,
   "metadata": {},
   "outputs": [
    {
     "name": "stdout",
     "output_type": "stream",
     "text": [
      "Requirement already satisfied: xlrd in /Users/momeifang/anaconda3/lib/python3.10/site-packages (2.0.1)\r\n"
     ]
    }
   ],
   "source": [
    "!pip install xlrd"
   ]
  },
  {
   "cell_type": "code",
   "execution_count": 47,
   "metadata": {},
   "outputs": [],
   "source": [
    "import xlrd\n",
    "\n",
    "import pandas as pd\n",
    "import numpy as np\n",
    "import seaborn as sns\n",
    "\n",
    "from sklearn.model_selection import train_test_split"
   ]
  },
  {
   "cell_type": "code",
   "execution_count": 44,
   "metadata": {},
   "outputs": [
    {
     "data": {
      "text/plain": [
       "(2400, 22)"
      ]
     },
     "execution_count": 44,
     "metadata": {},
     "output_type": "execute_result"
    }
   ],
   "source": [
    "df = pd.read_excel('7balance 800cellpro_classifer_combine 2_swollen 3_network_update for 161.xlsx')\n",
    "df.shape"
   ]
  },
  {
   "cell_type": "code",
   "execution_count": 51,
   "metadata": {},
   "outputs": [],
   "source": [
    "#pd.concat([df.iloc[:, :5], df[\"Class\"]], axis=1).head()\n",
    "#sns.pairplot(pd.concat([df.iloc[:, 15:21], df[\"Class\"]], axis=1), hue=\"Class\")\n",
    "y = df[\"Class\"]\n",
    "X = df.drop(columns=[\"Class\"])\n"
   ]
  },
  {
   "cell_type": "code",
   "execution_count": 58,
   "metadata": {},
   "outputs": [],
   "source": [
    "from sklearn.neighbors import KNeighborsClassifier\n",
    "\n",
    "model = KNeighborsClassifier(n_neighbors=5)\n",
    "\n",
    "X_train, X_test, y_train, y_test = train_test_split(X, y, test_size = 0.33, random_state =42)\n",
    "model.fit(X_train, y_train)\n",
    "\n",
    "yhat_train = model.predict(X_train)\n",
    "yhat_test = model.predict(X_test)"
   ]
  },
  {
   "cell_type": "code",
   "execution_count": 59,
   "metadata": {},
   "outputs": [
    {
     "name": "stdout",
     "output_type": "stream",
     "text": [
      "training set accuracy (n=1608): 0.826\n",
      "test set accuracy (n=792): 0.716\n",
      "\n",
      "classificiation report on test set performance\n",
      "              precision    recall  f1-score   support\n",
      "\n",
      "           1       0.74      0.75      0.75       276\n",
      "           2       0.72      0.89      0.79       237\n",
      "           3       0.68      0.53      0.60       279\n",
      "\n",
      "    accuracy                           0.72       792\n",
      "   macro avg       0.71      0.72      0.71       792\n",
      "weighted avg       0.71      0.72      0.71       792\n",
      "\n",
      "\n"
     ]
    },
    {
     "data": {
      "image/png": "[encoded data removed]",
      "text/plain": [
       "<Figure size 640x480 with 2 Axes>"
      ]
     },
     "metadata": {},
     "output_type": "display_data"
    }
   ],
   "source": [
    "from sklearn.metrics import accuracy_score, classification_report\n",
    "from sklearn.metrics import ConfusionMatrixDisplay\n",
    "\n",
    "acc_train = accuracy_score(y_train, yhat_train)\n",
    "\n",
    "# calculate the test set error\n",
    "acc_test = accuracy_score(y_test, yhat_test) \n",
    "\n",
    "print(f'training set accuracy (n={y_train.shape[0]}): {acc_train:4.3f}')\n",
    "print(f'test set accuracy (n={y_test.shape[0]}): {acc_test:4.3f}')\n",
    "print()\n",
    "print('classificiation report on test set performance')\n",
    "print(classification_report(y_test, yhat_test))\n",
    "print()\n",
    "\n",
    "with sns.axes_style('white'):\n",
    "    ConfusionMatrixDisplay.from_predictions(y_test, yhat_test)"
   ]
  },
  {
   "cell_type": "markdown",
   "metadata": {},
   "source": [
    "# Ethics & Privacy"
   ]
  },
  {
   "cell_type": "markdown",
   "metadata": {},
   "source": [
    "The present study focuses on the analysis of mitochondrial images, thereby mitigating significant ethical concerns. Given the nature of our data, derived solely from observable physical characteristics, we ascertain the absence of person-identifying information. Consequently, the potential risk pertaining to privacy concerns in our research remains negligible, based on the current understanding."
   ]
  },
  {
   "cell_type": "markdown",
   "metadata": {},
   "source": [
    "# Team Expectations "
   ]
  },
  {
   "cell_type": "markdown",
   "metadata": {},
   "source": [
    "- Prompt and timely responses in group chat\n",
    "- Equitable and consistent contributions from all team members\n",
    "- Attendance at scheduled meetings\n",
    "- Proactive communication regarding any challenges or concerns\n",
    "- Willingness to assist with tasks when feasible"
   ]
  },
  {
   "cell_type": "markdown",
   "metadata": {},
   "source": [
    "# Work in Progress: Project Timeline Proposal"
   ]
  },
  {
   "cell_type": "markdown",
   "metadata": {},
   "source": [
    "UPDATE THE PROPOSAL TIMELINE ACCORDING TO WHAT HAS ACTUALLY HAPPENED AND HOW IT HAS EFFECTED YOUR FUTURE PLANS\n",
    "\n",
    "| Meeting Date  | Meeting Time| Completed Before Meeting  | Discuss at Meeting |\n",
    "|---|---|---|---|\n",
    "| 1/20  |  1 PM |  Brainstorm topics/questions (all)  | Determine best form of communication; Discuss and decide on final project topic; discuss hypothesis; begin background research | \n",
    "| 1/26  |  10 AM |  Do background research on topic (Pelé) | Discuss ideal dataset(s) and ethics; draft project proposal | \n",
    "| 2/1  | 10 AM  | Edit, finalize, and submit proposal; Search for datasets (Beckenbaur)  | Discuss Wrangling and possible analytical approaches; Assign group members to lead each specific part   |\n",
    "| 2/14  | 6 PM  | Import & Wrangle Data ,do some EDA (Maradonna) | Review/Edit wrangling/EDA; Discuss Analysis Plan   |\n",
    "| 2/23  | 12 PM  | Finalize wrangling/EDA; Begin programming for project (Cruyff) | Discuss/edit project code; Complete project |\n",
    "| 3/13  | 12 PM  | Complete analysis; Draft results/conclusion/discussion (Carlos)| Discuss/edit full project |\n",
    "| 3/19  | Before 11:59 PM  | NA | Turn in Final Project  |"
   ]
  },
  {
   "cell_type": "markdown",
   "metadata": {},
   "source": [
    "# Work in Progress: Footnotes\n",
    "<a name=\"lorenznote\"></a>1.[^](#lorenz): Lorenz, T. (9 Dec 2021) Birds Aren’t Real, or Are They? Inside a Gen Z Conspiracy Theory. *The New York Times*. https://www.nytimes.com/2021/12/09/technology/birds-arent-real-gen-z-misinformation.html<br> \n",
    "<a name=\"admonishnote\"></a>2.[^](#admonish): Also refs should be important to the background, not some randomly chosen vaguely related stuff. Include a web link if possible in refs as above.<br>\n",
    "<a name=\"sotanote\"></a>3.[^](#sota): Perhaps the current state of the art solution such as you see on [Papers with code](https://paperswithcode.com/sota). Or maybe not SOTA, but rather a standard textbook/Kaggle solution to this kind of problem\n"
   ]
  }
 ],
 "metadata": {
  "kernelspec": {
   "display_name": "Python 3 (ipykernel)",
   "language": "python",
   "name": "python3"
  },
  "language_info": {
   "codemirror_mode": {
    "name": "ipython",
    "version": 3
   },
   "file_extension": ".py",
   "mimetype": "text/x-python",
   "name": "python",
   "nbconvert_exporter": "python",
   "pygments_lexer": "ipython3",
   "version": "3.9.16"
  }
 },
 "nbformat": 4,
 "nbformat_minor": 2
}
