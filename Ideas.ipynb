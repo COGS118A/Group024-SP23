{
 "cells": [
  {
   "cell_type": "markdown",
   "id": "c6b2a05a",
   "metadata": {},
   "source": [
    "# Ideas\n",
    "**Work in Progress: Preliminary results**\n",
    "\n",
    "NEW SECTION!\n",
    "\n",
    "Please show any preliminary results you have managed to obtain.\n",
    "\n",
    "Examples would include:\n",
    "- Analyzing the suitability of a dataset or alogrithm for prediction/solving your problem\n",
    "\n",
    "**EDA + Algorithm selection** (kNN and Naive Bayes) \n",
    "![image](img/plot.png/)\n",
    "\n",
    "**Step 1**\n",
    "train on all features knn and naive bayes\n",
    "\n",
    "- Performing feature selection or hand-designing features from the raw data. Describe the features available/created and/or show the code for selection/creation\n",
    "\n",
    "**Features READY since we take them from the paper (should perform feature selection (is in the paper))**\n",
    "Need to research this\n",
    "\n",
    "![image](img/features2.png/)\n",
    "![image](img/featureSelectionR.png/)\n",
    "![image](img/featureSelectionLecture.png/)\n",
    "\n",
    "\n",
    "- Showing the performance of a base model/hyper-parameter setting.  Solve the task with one \"default\" algorithm and characterize the performance level of that base model.\n",
    "\n",
    "**kNN the original paper did 5, we will try different ones, I am not sure what are the hyper parameters for Naive Bayes**\n",
    "\n",
    "- Learning curves or validation curves for a particular model\n",
    "\n",
    "**Learning curve can be implemented for different number of features and different models** \n",
    "\n",
    "![image](img/models.png/)\n",
    "\n",
    "- Tables/graphs showing the performance of different models/hyper-parameters\n",
    "\n"
   ]
  },
  {
   "cell_type": "code",
   "execution_count": null,
   "id": "3d2dfee6",
   "metadata": {},
   "outputs": [],
   "source": []
  }
 ],
 "metadata": {
  "kernelspec": {
   "display_name": "Python 3 (ipykernel)",
   "language": "python",
   "name": "python3"
  },
  "language_info": {
   "codemirror_mode": {
    "name": "ipython",
    "version": 3
   },
   "file_extension": ".py",
   "mimetype": "text/x-python",
   "name": "python",
   "nbconvert_exporter": "python",
   "pygments_lexer": "ipython3",
   "version": "3.9.16"
  }
 },
 "nbformat": 4,
 "nbformat_minor": 5
}
