{
 "cells": [
  {
   "cell_type": "markdown",
   "metadata": {},
   "source": [
    "# Classification of Mitochondrial Morphology Types: Comparative Analysis of Novel and Established Machine Learning Methodologies"
   ]
  },
  {
   "cell_type": "markdown",
   "metadata": {},
   "source": [
    "Alphabetically:\n",
    "\n",
    "\n",
    "Colin Caban\\\n",
    "Nakshatra Bansal\\\n",
    "Momei Fang\\\n",
    "Anna Sim"
   ]
  },
  {
   "cell_type": "markdown",
   "metadata": {},
   "source": [
    "# Abstract\n",
    "\n",
    "Accurate classification of mitochondrial morphology types is crucial for understanding cellular health and function. In this study, we employ an established methodology to classify mitochondria morphology and propose novel classification models for comparison against the baseline approach. Our analysis utilizes microscopy data obtained from the publication \"Deep Analysis of Mitochondria and Cell Health Using Machine Learning,\" which captured images following a standardized procedure involving the application of various drug conditions. Consequently, three distinct classes of mitochondria were identified: punctate, swollen, and networked.\n",
    "\n",
    "The baseline methodology encompasses training a K-nearest neighbors (KNN) model (k=5) and a naive Bayes classifier, leveraging pre-engineered features outlined in the aforementioned publication. To ascertain the efficacy of these models, we conduct a comparative evaluation with support vector machines (SVM), decision trees, ensembles, and convolutional neural networks (CNN). Evaluation is based on the classification accuracy rate, enabling a comprehensive assessment of each model's proficiency in accurately classifying mitochondrial morphology types.\n",
    "\n",
    "By providing a comprehensive comparison between established and novel methodologies, this study aims to contribute to the advancement of the machine learning approach to biological research, cellular health implications, and drug discovery."
   ]
  },
  {
   "cell_type": "markdown",
   "metadata": {},
   "source": [
    "# Work in Progress: Background\n",
    "\n",
    "Fill in the background and discuss the kind of prior work that has gone on in this research area here. **Use inline citation** to specify which references support which statements.  You can do that through HTML footnotes (demonstrated here). I used to reccommend Markdown footnotes (google is your friend) because they are simpler but recently I have had some problems with them working for me whereas HTML ones always work so far. So use the method that works for you, but do use inline citations.\n",
    "\n",
    "Here is an example of inline citation. After government genocide in the 20th century, real birds were replaced with surveillance drones designed to look just like birds<a name=\"lorenz\"></a>[<sup>[1]</sup>](#lorenznote). Use a minimum of 2 or 3 citations, but we prefer more <a name=\"admonish\"></a>[<sup>[2]</sup>](#admonishnote). You need enough citations to fully explain and back up important facts. \n",
    "\n",
    "Remeber you are trying to explain why someone would want to answer your question or why your hypothesis is in the form that you've stated. \n",
    "\n",
    "\n",
    "**Developing The literature cited is relevent; however, a single literature might not be sufficient for your understanding of the research question.**\n",
    "\n",
    "Mitochondria are dynamic organelles that create ATP and regulate cellular processes. It contributes in the regulation of cell fate, homeostasis, survival, disease in eukaryotic cells. The phenotypes of mitochondria are variable, meaning that they can have different physical characteristics. In \"Deep Analysis of Mitochondria and Cell Health Using Machine Learning\", they attempted to classify different morphological classes of mitochondria: punctate, swollen, and networked. These different classes can observe different characteristics. Abnormal morphological dynamics can be indicative of disease. Due to the importance of this organelle, there is a need for fast and accurate methods of mitochondria morphology classification. The amount of data acquired usually requires carefull examination, but due to the large amounts is impossible to analyze by humans. Cutting edge technology utilized machine learning techniques to get the most out of biological data. With the assistance of machine learning, we can become more adept at diagnosing patients or doing drug discovery.\n",
    "\n",
    "Zahedi, A., On, V., Phandthong, R. et al. Deep Analysis of Mitochondria and Cell Health Using Machine Learning. Sci Rep 8, 16354 (2018). https://doi.org/10.1038/s41598-018-34455-y "
   ]
  },
  {
   "cell_type": "markdown",
   "metadata": {},
   "source": [
    "# Problem Statement\n",
    "\n",
    "Advancements in machine learning hold great promise for revolutionizing the field of biology and medicine by unlocking the untapped potential of understanding human health. In this study, we aim to address a critical challenge in early medical diagnosis and drug discovery by employing machine learning algorithms to classify mitochondria morphology based on features extracted from microscopy images.\n",
    "\n",
    "Mitochondria, dynamic organelles that govern numerous cellular processes, have emerged as a primary focus of research due to their crucial role in regulating cellular health. Early changes in mitochondrial structure and function are indicative of underlying cellular health conditions. Thus, characterizing these changes can provide valuable insights into the development of effective diagnostic methods and targeted therapeutic interventions.\n",
    "\n",
    "To tackle this problem, we conducted an extensive literature review and identified a seminal paper entitled \"Deep Analysis of Mitochondria and Cell Health Using Machine Learning\" as the basis for our study. Building upon the core concepts presented in this paper and leveraging knowledge acquired in our class, we strive to develop robust machine learning models to accurately classify mitochondria morphology.\n",
    "\n",
    "To ensure the replicability of our findings, we will meticulously follow a systematic approach. Firstly, we will perform Exploratory Data Analysis (EDA) on our datasets, examining their structure, characteristics, and underlying details. This exploratory step will enable us to gain a comprehensive understanding of the dataset, identify any potential dependencies or relationships, and inform subsequent modeling decisions.\n",
    "\n",
    "As a baseline, we will train a K-Nearest Neighbors (KNN) model and a naive Bayes model using the extracted features. These models will serve as benchmarks against which the performance of subsequent models will be evaluated. We will meticulously assess the performance of these models, considering metrics such as accuracy, precision, recall, and F1-score, among others.\n",
    "\n",
    "In addition to the baseline models, we will explore and train additional machine learning models to further enhance the classification accuracy. These models may include but are not limited to Random Forest, Support Vector Machines, and Convolutional Neural Networks. By evaluating and comparing the performance of these models against the baseline approaches, we aim to identify the most effective methodology for classifying mitochondria morphology.\n",
    "\n",
    "We focus on studying the variations in performance among machine learning models when applied to biological applications. Through this comparative analysis, we aim to provide insights into the suitability and efficacy of different machine learning approaches for accurate mitochondria morphology classification.\n",
    "\n",
    "By elucidating the disparities in performance between these models, our study will contribute to advancing the understanding of the application of machine learning in biology."
   ]
  },
  {
   "cell_type": "markdown",
   "metadata": {},
   "source": [
    "# Data\n",
    "\n",
    "Data was acquired from the following publication:\\\n",
    "**Deep Analysis of Mitochondria and Cell Health Using Machine Learning**\\\n",
    "https://www.nature.com/articles/s41598-018-34455-y \\\n",
    "Zahedi, A., On, V., Phandthong, R. et al. Deep Analysis of Mitochondria and Cell Health Using Machine Learning. Sci Rep 8, 16354 (2018). https://doi.org/10.1038/s41598-018-34455-y \n",
    "\n",
    "- Observations consist of:\n",
    "    - different drug conditions\n",
    "    - images of mitochondria\n",
    "    - csv files of the features\n",
    "- List of features\n",
    "    - area\n",
    "    - major axis\n",
    "    - minor axis\n",
    "    - solidity\n",
    "    - perimeter\n",
    "    - max radius\n",
    "    - median radius\n",
    "    - integrated intensity"
   ]
  },
  {
   "cell_type": "markdown",
   "metadata": {},
   "source": [
    "# Work in Progress: Proposed Solution\n",
    "\n",
    "In this section, clearly describe a solution to the problem. The solution should be applicable to the project domain and appropriate for the dataset(s) or input(s) given. Provide enough detail (e.g., algorithmic description and/or theoretical properties) to convince us that your solution is applicable. Make sure to describe how the solution will be tested.  \n",
    "\n",
    "If you know details already, describe how (e.g., library used, function calls) you plan to implement the solution in a way that is reproducible.\n",
    "\n",
    "If it is appropriate to the problem statement, describe a benchmark model<a name=\"sota\"></a>[<sup>[3]</sup>](#sotanote) against which your solution will be compared. \n",
    "\n",
    "**Developing\tValid solution; however, you could provide more details on the theoretical properties of the algorithm and your reasoning that leads to this choice.**\n",
    "\n",
    "The baseline solution for our problem is using KNN (k=5) classification model with an 91% accuracy rate on the testing set. Since the solution was used in the publication alongside a naive Baye's approach, we believe that this established a working solution. It was further validated in the paper using a hand-segmentation process."
   ]
  },
  {
   "cell_type": "markdown",
   "metadata": {},
   "source": [
    "# Evaluation Metrics\n",
    "\n",
    "The evaluation of the benchmark and solution models in this study relies on classification accuracy rate as the primary metric. Following the methodology employed by the original paper, we adopt this metric to evaluate the performance of our model. By utilizing the same evaluation criterion, we ensure comparability between our findings and the baseline model, facilitating direct comparisons. The classification accuracy rate serves as a quantitative measure to gauge the efficacy of the models under consideration, enabling a comprehensive assessment of their classification capabilities."
   ]
  },
  {
   "cell_type": "markdown",
   "metadata": {},
   "source": [
    "# Work in Progress: Preliminary results\n",
    "\n",
    "NEW SECTION!\n",
    "\n",
    "Please show any preliminary results you have managed to obtain.\n",
    "\n",
    "Examples would include:\n",
    "- Analyzing the suitability of a dataset or alogrithm for prediction/solving your problem\n",
    "\n",
    "**EDA + Algorithm selection** (kNN and Naive Bayes) \n",
    "![image](img/plot.png/)\n",
    "\n",
    "**Step 1**\n",
    "train on all features knn and naive bayes\n",
    "\n",
    "- Performing feature selection or hand-designing features from the raw data. Describe the features available/created and/or show the code for selection/creation\n",
    "\n",
    "**Features READY since we take them from the paper (should perform feature selection (is in the paper))**\n",
    "Need to research this\n",
    "\n",
    "![image](img/features2.png/)\n",
    "![image](img/featureSelectionR.png/)\n",
    "![image](img/featureSelectionLecture.png/)\n",
    "\n",
    "\n",
    "- Showing the performance of a base model/hyper-parameter setting.  Solve the task with one \"default\" algorithm and characterize the performance level of that base model.\n",
    "\n",
    "**kNN the original paper did 5, we will try different ones, I am not sure what are the hyper parameters for Naive Bayes**\n",
    "\n",
    "- Learning curves or validation curves for a particular model\n",
    "\n",
    "**Learning curve can be implemented for different number of features and different models** \n",
    "\n",
    "![image](img/models.png/)\n",
    "\n",
    "- Tables/graphs showing the performance of different models/hyper-parameters\n",
    "\n"
   ]
  },
  {
   "cell_type": "markdown",
   "metadata": {},
   "source": [
    "## Setup"
   ]
  },
  {
   "cell_type": "code",
<<<<<<< Updated upstream
   "execution_count": 6,
   "metadata": {
    "scrolled": false
   },
   "outputs": [],
   "source": [
    "#!pip install xlrd #necessary for reading xlsx files\n",
    "# you can also install it directly to your env: conda install -c anaconda openpyxl"
=======
   "execution_count": 2,
   "metadata": {},
   "outputs": [
    {
     "name": "stdout",
     "output_type": "stream",
     "text": [
      "Collecting xlrd\n",
      "  Downloading xlrd-2.0.1-py2.py3-none-any.whl (96 kB)\n",
      "     ---------------------------------------- 96.5/96.5 kB 2.8 MB/s eta 0:00:00\n",
      "Installing collected packages: xlrd\n",
      "Successfully installed xlrd-2.0.1\n"
     ]
    }
   ],
   "source": [
    "!pip install xlrd "
>>>>>>> Stashed changes
   ]
  },
  {
   "cell_type": "code",
<<<<<<< Updated upstream
   "execution_count": 4,
=======
   "execution_count": 3,
>>>>>>> Stashed changes
   "metadata": {},
   "outputs": [],
   "source": [
    "import xlrd\n",
    "\n",
    "import pandas as pd\n",
    "import numpy as np\n",
    "import seaborn as sns\n",
    "\n",
    "from sklearn.model_selection import train_test_split"
   ]
  },
  {
   "cell_type": "code",
<<<<<<< Updated upstream
   "execution_count": 5,
=======
   "execution_count": 4,
>>>>>>> Stashed changes
   "metadata": {},
   "outputs": [
    {
     "data": {
      "text/plain": [
       "(2400, 22)"
      ]
     },
<<<<<<< Updated upstream
     "execution_count": 5,
=======
     "execution_count": 4,
>>>>>>> Stashed changes
     "metadata": {},
     "output_type": "execute_result"
    }
   ],
   "source": [
    "df = pd.read_excel('7balance 800cellpro_classifer_combine 2_swollen 3_network_update for 161.xlsx') \n",
    "df.shape"
   ]
  },
  {
   "cell_type": "code",
   "execution_count": 4,
   "metadata": {},
   "outputs": [],
   "source": [
    "y = df[\"Class\"]\n",
    "X = df.drop(columns=[\"Class\"])\n",
    "\n",
    "#normalize features\n",
    "#for col in X.columns:\n",
    "#    X[col] = X[col]/X[col].mean()\n",
    "X_train, X_test, y_train, y_test = train_test_split(X, y, test_size = 0.33, random_state =42)"
   ]
  },
  {
   "cell_type": "markdown",
   "metadata": {},
   "source": [
    "## Ask about whether we should normalize before or after split\n",
    "Pretty sure we would split first then normalize the training set\n",
    "We would perform the splits first then we would normalized according to the train data (preprocess)\n",
    "Then when we evaluate the test data, preprocess the test data on the training mean. This will prevent data leakage."
   ]
  },
  {
   "cell_type": "markdown",
   "metadata": {},
   "source": [
    "## KNN"
   ]
  },
  {
   "cell_type": "code",
   "execution_count": 5,
   "metadata": {},
   "outputs": [
    {
     "data": {
      "text/html": [
       "<style>#sk-container-id-1 {color: black;background-color: white;}#sk-container-id-1 pre{padding: 0;}#sk-container-id-1 div.sk-toggleable {background-color: white;}#sk-container-id-1 label.sk-toggleable__label {cursor: pointer;display: block;width: 100%;margin-bottom: 0;padding: 0.3em;box-sizing: border-box;text-align: center;}#sk-container-id-1 label.sk-toggleable__label-arrow:before {content: \"▸\";float: left;margin-right: 0.25em;color: #696969;}#sk-container-id-1 label.sk-toggleable__label-arrow:hover:before {color: black;}#sk-container-id-1 div.sk-estimator:hover label.sk-toggleable__label-arrow:before {color: black;}#sk-container-id-1 div.sk-toggleable__content {max-height: 0;max-width: 0;overflow: hidden;text-align: left;background-color: #f0f8ff;}#sk-container-id-1 div.sk-toggleable__content pre {margin: 0.2em;color: black;border-radius: 0.25em;background-color: #f0f8ff;}#sk-container-id-1 input.sk-toggleable__control:checked~div.sk-toggleable__content {max-height: 200px;max-width: 100%;overflow: auto;}#sk-container-id-1 input.sk-toggleable__control:checked~label.sk-toggleable__label-arrow:before {content: \"▾\";}#sk-container-id-1 div.sk-estimator input.sk-toggleable__control:checked~label.sk-toggleable__label {background-color: #d4ebff;}#sk-container-id-1 div.sk-label input.sk-toggleable__control:checked~label.sk-toggleable__label {background-color: #d4ebff;}#sk-container-id-1 input.sk-hidden--visually {border: 0;clip: rect(1px 1px 1px 1px);clip: rect(1px, 1px, 1px, 1px);height: 1px;margin: -1px;overflow: hidden;padding: 0;position: absolute;width: 1px;}#sk-container-id-1 div.sk-estimator {font-family: monospace;background-color: #f0f8ff;border: 1px dotted black;border-radius: 0.25em;box-sizing: border-box;margin-bottom: 0.5em;}#sk-container-id-1 div.sk-estimator:hover {background-color: #d4ebff;}#sk-container-id-1 div.sk-parallel-item::after {content: \"\";width: 100%;border-bottom: 1px solid gray;flex-grow: 1;}#sk-container-id-1 div.sk-label:hover label.sk-toggleable__label {background-color: #d4ebff;}#sk-container-id-1 div.sk-serial::before {content: \"\";position: absolute;border-left: 1px solid gray;box-sizing: border-box;top: 0;bottom: 0;left: 50%;z-index: 0;}#sk-container-id-1 div.sk-serial {display: flex;flex-direction: column;align-items: center;background-color: white;padding-right: 0.2em;padding-left: 0.2em;position: relative;}#sk-container-id-1 div.sk-item {position: relative;z-index: 1;}#sk-container-id-1 div.sk-parallel {display: flex;align-items: stretch;justify-content: center;background-color: white;position: relative;}#sk-container-id-1 div.sk-item::before, #sk-container-id-1 div.sk-parallel-item::before {content: \"\";position: absolute;border-left: 1px solid gray;box-sizing: border-box;top: 0;bottom: 0;left: 50%;z-index: -1;}#sk-container-id-1 div.sk-parallel-item {display: flex;flex-direction: column;z-index: 1;position: relative;background-color: white;}#sk-container-id-1 div.sk-parallel-item:first-child::after {align-self: flex-end;width: 50%;}#sk-container-id-1 div.sk-parallel-item:last-child::after {align-self: flex-start;width: 50%;}#sk-container-id-1 div.sk-parallel-item:only-child::after {width: 0;}#sk-container-id-1 div.sk-dashed-wrapped {border: 1px dashed gray;margin: 0 0.4em 0.5em 0.4em;box-sizing: border-box;padding-bottom: 0.4em;background-color: white;}#sk-container-id-1 div.sk-label label {font-family: monospace;font-weight: bold;display: inline-block;line-height: 1.2em;}#sk-container-id-1 div.sk-label-container {text-align: center;}#sk-container-id-1 div.sk-container {/* jupyter's `normalize.less` sets `[hidden] { display: none; }` but bootstrap.min.css set `[hidden] { display: none !important; }` so we also need the `!important` here to be able to override the default hidden behavior on the sphinx rendered scikit-learn.org. See: https://github.com/scikit-learn/scikit-learn/issues/21755 */display: inline-block !important;position: relative;}#sk-container-id-1 div.sk-text-repr-fallback {display: none;}</style><div id=\"sk-container-id-1\" class=\"sk-top-container\"><div class=\"sk-text-repr-fallback\"><pre>KNeighborsClassifier()</pre><b>In a Jupyter environment, please rerun this cell to show the HTML representation or trust the notebook. <br />On GitHub, the HTML representation is unable to render, please try loading this page with nbviewer.org.</b></div><div class=\"sk-container\" hidden><div class=\"sk-item\"><div class=\"sk-estimator sk-toggleable\"><input class=\"sk-toggleable__control sk-hidden--visually\" id=\"sk-estimator-id-1\" type=\"checkbox\" checked><label for=\"sk-estimator-id-1\" class=\"sk-toggleable__label sk-toggleable__label-arrow\">KNeighborsClassifier</label><div class=\"sk-toggleable__content\"><pre>KNeighborsClassifier()</pre></div></div></div></div></div>"
      ],
      "text/plain": [
       "KNeighborsClassifier()"
      ]
     },
     "execution_count": 5,
     "metadata": {},
     "output_type": "execute_result"
    }
   ],
   "source": [
    "from sklearn.neighbors import KNeighborsClassifier\n",
    "\n",
    "model = KNeighborsClassifier(n_neighbors=5)\n",
    "model.fit(X_train, y_train)"
   ]
  },
  {
   "cell_type": "code",
   "execution_count": 6,
   "metadata": {},
   "outputs": [],
   "source": [
    "from sklearn.metrics import accuracy_score, classification_report\n",
    "from sklearn.metrics import ConfusionMatrixDisplay\n",
    "def show_Accuracy(model, X_train, y_train, X_test, y_test):\n",
    "    yhat_train = model.predict(X_train)\n",
    "    yhat_test = model.predict(X_test)\n",
    "    acc_train = accuracy_score(y_train, yhat_train)\n",
    "\n",
    "    # calculate the test set error\n",
    "    acc_test = accuracy_score(y_test, yhat_test) \n",
    "\n",
    "    print(f'training set accuracy (n={y_train.shape[0]}): {acc_train:4.3f}')\n",
    "    print(f'test set accuracy (n={y_test.shape[0]}): {acc_test:4.3f}')\n",
    "    print()\n",
    "    print('classificiation report on test set performance')\n",
    "    print(classification_report(y_test, yhat_test))\n",
    "    print()\n",
    "\n",
    "    with sns.axes_style('white'):\n",
    "        ConfusionMatrixDisplay.from_predictions(y_test, yhat_test)"
   ]
  },
  {
   "cell_type": "code",
   "execution_count": 7,
   "metadata": {},
   "outputs": [
    {
     "name": "stdout",
     "output_type": "stream",
     "text": [
      "training set accuracy (n=1608): 0.874\n",
      "test set accuracy (n=792): 0.812\n",
      "\n",
      "classificiation report on test set performance\n",
      "              precision    recall  f1-score   support\n",
      "\n",
      "           1       0.83      0.84      0.83       276\n",
      "           2       0.76      0.89      0.82       237\n",
      "           3       0.85      0.72      0.78       279\n",
      "\n",
      "    accuracy                           0.81       792\n",
      "   macro avg       0.81      0.82      0.81       792\n",
      "weighted avg       0.82      0.81      0.81       792\n",
      "\n",
      "\n"
     ]
    },
    {
     "data": {
      "image/png": "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\n",
      "text/plain": [
       "<Figure size 640x480 with 2 Axes>"
      ]
     },
     "metadata": {},
     "output_type": "display_data"
    }
   ],
   "source": [
    "show_Accuracy(model, X_train, y_train, X_test, y_test)"
   ]
  },
  {
   "cell_type": "markdown",
   "metadata": {},
   "source": [
    "## Testing out NN's (MLP)"
   ]
  },
  {
   "cell_type": "code",
   "execution_count": 8,
   "metadata": {},
   "outputs": [
    {
     "data": {
      "text/html": [
       "<style>#sk-container-id-2 {color: black;background-color: white;}#sk-container-id-2 pre{padding: 0;}#sk-container-id-2 div.sk-toggleable {background-color: white;}#sk-container-id-2 label.sk-toggleable__label {cursor: pointer;display: block;width: 100%;margin-bottom: 0;padding: 0.3em;box-sizing: border-box;text-align: center;}#sk-container-id-2 label.sk-toggleable__label-arrow:before {content: \"▸\";float: left;margin-right: 0.25em;color: #696969;}#sk-container-id-2 label.sk-toggleable__label-arrow:hover:before {color: black;}#sk-container-id-2 div.sk-estimator:hover label.sk-toggleable__label-arrow:before {color: black;}#sk-container-id-2 div.sk-toggleable__content {max-height: 0;max-width: 0;overflow: hidden;text-align: left;background-color: #f0f8ff;}#sk-container-id-2 div.sk-toggleable__content pre {margin: 0.2em;color: black;border-radius: 0.25em;background-color: #f0f8ff;}#sk-container-id-2 input.sk-toggleable__control:checked~div.sk-toggleable__content {max-height: 200px;max-width: 100%;overflow: auto;}#sk-container-id-2 input.sk-toggleable__control:checked~label.sk-toggleable__label-arrow:before {content: \"▾\";}#sk-container-id-2 div.sk-estimator input.sk-toggleable__control:checked~label.sk-toggleable__label {background-color: #d4ebff;}#sk-container-id-2 div.sk-label input.sk-toggleable__control:checked~label.sk-toggleable__label {background-color: #d4ebff;}#sk-container-id-2 input.sk-hidden--visually {border: 0;clip: rect(1px 1px 1px 1px);clip: rect(1px, 1px, 1px, 1px);height: 1px;margin: -1px;overflow: hidden;padding: 0;position: absolute;width: 1px;}#sk-container-id-2 div.sk-estimator {font-family: monospace;background-color: #f0f8ff;border: 1px dotted black;border-radius: 0.25em;box-sizing: border-box;margin-bottom: 0.5em;}#sk-container-id-2 div.sk-estimator:hover {background-color: #d4ebff;}#sk-container-id-2 div.sk-parallel-item::after {content: \"\";width: 100%;border-bottom: 1px solid gray;flex-grow: 1;}#sk-container-id-2 div.sk-label:hover label.sk-toggleable__label {background-color: #d4ebff;}#sk-container-id-2 div.sk-serial::before {content: \"\";position: absolute;border-left: 1px solid gray;box-sizing: border-box;top: 0;bottom: 0;left: 50%;z-index: 0;}#sk-container-id-2 div.sk-serial {display: flex;flex-direction: column;align-items: center;background-color: white;padding-right: 0.2em;padding-left: 0.2em;position: relative;}#sk-container-id-2 div.sk-item {position: relative;z-index: 1;}#sk-container-id-2 div.sk-parallel {display: flex;align-items: stretch;justify-content: center;background-color: white;position: relative;}#sk-container-id-2 div.sk-item::before, #sk-container-id-2 div.sk-parallel-item::before {content: \"\";position: absolute;border-left: 1px solid gray;box-sizing: border-box;top: 0;bottom: 0;left: 50%;z-index: -1;}#sk-container-id-2 div.sk-parallel-item {display: flex;flex-direction: column;z-index: 1;position: relative;background-color: white;}#sk-container-id-2 div.sk-parallel-item:first-child::after {align-self: flex-end;width: 50%;}#sk-container-id-2 div.sk-parallel-item:last-child::after {align-self: flex-start;width: 50%;}#sk-container-id-2 div.sk-parallel-item:only-child::after {width: 0;}#sk-container-id-2 div.sk-dashed-wrapped {border: 1px dashed gray;margin: 0 0.4em 0.5em 0.4em;box-sizing: border-box;padding-bottom: 0.4em;background-color: white;}#sk-container-id-2 div.sk-label label {font-family: monospace;font-weight: bold;display: inline-block;line-height: 1.2em;}#sk-container-id-2 div.sk-label-container {text-align: center;}#sk-container-id-2 div.sk-container {/* jupyter's `normalize.less` sets `[hidden] { display: none; }` but bootstrap.min.css set `[hidden] { display: none !important; }` so we also need the `!important` here to be able to override the default hidden behavior on the sphinx rendered scikit-learn.org. See: https://github.com/scikit-learn/scikit-learn/issues/21755 */display: inline-block !important;position: relative;}#sk-container-id-2 div.sk-text-repr-fallback {display: none;}</style><div id=\"sk-container-id-2\" class=\"sk-top-container\"><div class=\"sk-text-repr-fallback\"><pre>MLPClassifier(hidden_layer_sizes=(6, 12, 10, 15), random_state=1)</pre><b>In a Jupyter environment, please rerun this cell to show the HTML representation or trust the notebook. <br />On GitHub, the HTML representation is unable to render, please try loading this page with nbviewer.org.</b></div><div class=\"sk-container\" hidden><div class=\"sk-item\"><div class=\"sk-estimator sk-toggleable\"><input class=\"sk-toggleable__control sk-hidden--visually\" id=\"sk-estimator-id-2\" type=\"checkbox\" checked><label for=\"sk-estimator-id-2\" class=\"sk-toggleable__label sk-toggleable__label-arrow\">MLPClassifier</label><div class=\"sk-toggleable__content\"><pre>MLPClassifier(hidden_layer_sizes=(6, 12, 10, 15), random_state=1)</pre></div></div></div></div></div>"
      ],
      "text/plain": [
       "MLPClassifier(hidden_layer_sizes=(6, 12, 10, 15), random_state=1)"
      ]
     },
     "execution_count": 8,
     "metadata": {},
     "output_type": "execute_result"
    }
   ],
   "source": [
    "from sklearn.neural_network import MLPClassifier\n",
    "clf = MLPClassifier(solver='adam', alpha=1e-4,hidden_layer_sizes=(6,12,10,15), random_state=1)\n",
    "clf.fit(X_train, y_train)"
   ]
  },
  {
   "cell_type": "code",
   "execution_count": 9,
   "metadata": {},
   "outputs": [
    {
     "name": "stdout",
     "output_type": "stream",
     "text": [
      "training set accuracy (n=1608): 0.868\n",
      "test set accuracy (n=792): 0.891\n",
      "\n",
      "classificiation report on test set performance\n",
      "              precision    recall  f1-score   support\n",
      "\n",
      "           1       0.92      0.92      0.92       276\n",
      "           2       0.89      0.92      0.90       237\n",
      "           3       0.87      0.85      0.86       279\n",
      "\n",
      "    accuracy                           0.89       792\n",
      "   macro avg       0.89      0.89      0.89       792\n",
      "weighted avg       0.89      0.89      0.89       792\n",
      "\n",
      "\n"
     ]
    },
    {
     "data": {
      "image/png": "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\n",
      "text/plain": [
       "<Figure size 640x480 with 2 Axes>"
      ]
     },
     "metadata": {},
     "output_type": "display_data"
    }
   ],
   "source": [
    "show_Accuracy(clf, X_train, y_train, X_test, y_test)"
   ]
  },
  {
   "cell_type": "markdown",
   "metadata": {},
   "source": [
    "# Ethics & Privacy"
   ]
  },
  {
   "cell_type": "markdown",
   "metadata": {},
   "source": [
    "The present study focuses on the analysis of mitochondrial images, thereby mitigating significant ethical concerns. Given the nature of our data, derived solely from observable physical characteristics, we ascertain the absence of person-identifying information. Consequently, the potential risk pertaining to privacy concerns in our research remains negligible, based on the current understanding."
   ]
  },
  {
   "cell_type": "markdown",
   "metadata": {},
   "source": [
    "# Team Expectations "
   ]
  },
  {
   "cell_type": "markdown",
   "metadata": {},
   "source": [
    "- Prompt and timely responses in group chat\n",
    "- Equitable and consistent contributions from all team members\n",
    "- Attendance at scheduled meetings\n",
    "- Proactive communication regarding any challenges or concerns\n",
    "- Willingness to assist with tasks when feasible"
   ]
  },
  {
   "cell_type": "markdown",
   "metadata": {},
   "source": [
    "# Work in Progress: Project Timeline Proposal"
   ]
  },
  {
   "cell_type": "markdown",
   "metadata": {},
   "source": [
    "UPDATE THE PROPOSAL TIMELINE ACCORDING TO WHAT HAS ACTUALLY HAPPENED AND HOW IT HAS EFFECTED YOUR FUTURE PLANS\n",
    "\n",
    "| Meeting Date  | Meeting Time| Completed Before Meeting  | Discuss at Meeting |\n",
    "|---|---|---|---|\n",
    "| 1/20  |  1 PM |  Brainstorm topics/questions (all)  | Determine best form of communication; Discuss and decide on final project topic; discuss hypothesis; begin background research | \n",
    "| 1/26  |  10 AM |  Do background research on topic (Pelé) | Discuss ideal dataset(s) and ethics; draft project proposal | \n",
    "| 2/1  | 10 AM  | Edit, finalize, and submit proposal; Search for datasets (Beckenbaur)  | Discuss Wrangling and possible analytical approaches; Assign group members to lead each specific part   |\n",
    "| 2/14  | 6 PM  | Import & Wrangle Data ,do some EDA (Maradonna) | Review/Edit wrangling/EDA; Discuss Analysis Plan   |\n",
    "| 2/23  | 12 PM  | Finalize wrangling/EDA; Begin programming for project (Cruyff) | Discuss/edit project code; Complete project |\n",
    "| 3/13  | 12 PM  | Complete analysis; Draft results/conclusion/discussion (Carlos)| Discuss/edit full project |\n",
    "| 3/19  | Before 11:59 PM  | NA | Turn in Final Project  |"
   ]
  },
  {
   "cell_type": "markdown",
   "metadata": {},
   "source": [
    "# Work in Progress: Footnotes\n",
    "<a name=\"lorenznote\"></a>1.[^](#lorenz): Lorenz, T. (9 Dec 2021) Birds Aren’t Real, or Are They? Inside a Gen Z Conspiracy Theory. *The New York Times*. https://www.nytimes.com/2021/12/09/technology/birds-arent-real-gen-z-misinformation.html<br> \n",
    "<a name=\"admonishnote\"></a>2.[^](#admonish): Also refs should be important to the background, not some randomly chosen vaguely related stuff. Include a web link if possible in refs as above.<br>\n",
    "<a name=\"sotanote\"></a>3.[^](#sota): Perhaps the current state of the art solution such as you see on [Papers with code](https://paperswithcode.com/sota). Or maybe not SOTA, but rather a standard textbook/Kaggle solution to this kind of problem\n"
   ]
  }
 ],
 "metadata": {
  "kernelspec": {
   "display_name": "Python 3 (ipykernel)",
   "language": "python",
   "name": "python3"
  },
  "language_info": {
   "codemirror_mode": {
    "name": "ipython",
    "version": 3
   },
   "file_extension": ".py",
   "mimetype": "text/x-python",
   "name": "python",
   "nbconvert_exporter": "python",
   "pygments_lexer": "ipython3",
   "version": "3.10.9"
  }
 },
 "nbformat": 4,
 "nbformat_minor": 2
}
