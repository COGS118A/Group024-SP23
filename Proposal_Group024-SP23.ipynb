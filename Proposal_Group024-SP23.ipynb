{
 "cells": [
  {
   "cell_type": "markdown",
   "metadata": {},
   "source": [
    "# COGS 118A- Project Proposal"
   ]
  },
  {
   "cell_type": "markdown",
   "metadata": {},
   "source": [
    "### Peer Review\n",
    "\n",
    "You will all have an opportunity to look at the Project Proposals of other groups to fuel your creativity and get more ideas for how you can improve your own projects. \n",
    "\n",
    "Both the project proposal and project checkpoint will have peer review."
   ]
  },
  {
   "cell_type": "markdown",
   "metadata": {},
   "source": [
    "# Names\n",
    "\n",
    "Hopefully your team is at least this good. Obviously you should replace these with your names.\n",
    "\n",
    "- Momei Fang\n",
    "- Nakshatra Bansal\n",
    "- Anna Sim\n",
    "- Colin Caban"
   ]
  },
  {
   "cell_type": "markdown",
   "metadata": {},
   "source": [
    "# Abstract \n",
    "The goal is to classify mitochondria morphology type with the established methodology. We further plan to test new classification models to compare the baseline to new methodologies. Microscopy data that we are using is taken from the publication \"Deep Analysis of Mitochondria and Cell Health Using Machine Learning.\" The microscopy images were obtained during established procedure where different drug conditions were applied. That resulted in three different classes of mitochondria: punctate, swollen, networked. The baseline contains of training KNN (k=5) model and naive Baye's using pre-engineered features established in the publication. We intend to compare the performance of these models to SVM, decision trees, ensembles, and CNN. The performance will be assessed via classification accuracy rate."
   ]
  },
  {
   "cell_type": "markdown",
   "metadata": {},
   "source": [
    "# Background\n",
    "\n",
    "Mitochondria are dynamic organelles that create ATP and regulate cellular processes. It contributes in the regulation of cell fate, homeostasis, survival, disease in eukaryotic cells. The phenotypes of mitochondria are variable, meaning that they can have different physical characteristics. In \"Deep Analysis of Mitochondria and Cell Health Using Machine Learning\", they attempted to classify different morphological classes of mitochondria: punctate, swollen, and networked. These different classes can observe different characteristics. Abnormal morphological dynamics can be indicative of disease. Due to the importance of this organelle, there is a need for fast and accurate methods of mitochondria morphology classification. The amount of data acquired usually requires carefull examination, but due to the large amounts is impossible to analyze by humans. Cutting edge technology utilized machine learning techniques to get the most out of biological data. With the assistance of machine learning, we can become more adept at diagnosing patients or doing drug discovery.\n",
    "\n",
    "Zahedi, A., On, V., Phandthong, R. et al. Deep Analysis of Mitochondria and Cell Health Using Machine Learning. Sci Rep 8, 16354 (2018). https://doi.org/10.1038/s41598-018-34455-y "
   ]
  },
  {
   "cell_type": "markdown",
   "metadata": {},
   "source": [
    "# Problem Statement\n",
    "\n",
    "We're interested in the applications of machine learning to biology and medicine. Machine learning algorithms unlock undiscovered potential of understanding human health. After conducting literature review, we identified a paper that interested us and implemented core concepts discussed in the class. We chose \"Deep Analysis of Mitochondria and Cell Health Using Machine Learning\". The paper focused on mitochondria because mitochondria are dynamic organelles that are known to regulate all of the cellular processes. Therefore, they're the primary target of research when it comes to early medical diagnoses and drug discovery. They're indicative of early changes within cell health, which is why researchers want to characterize those changes. The goal of our project is to classify mitochondria morphology based on features extracted from microscopy images. First, we will conduct EDA on our data to understand the structure and details of our datasets. This will allow us to better understand the features and recognize any dependencies and/or relationships. We will train a KNN model and naive Baye's model as a baseline. After that, we will assess its performance. Lastly, we will train some additional models, assess their performance, and compare them to the baseline models."
   ]
  },
  {
   "cell_type": "markdown",
   "metadata": {},
   "source": [
    "# Data\n",
    "\n",
    "## Deep Analysis of Mitochondria and Cell Health Using Machine Learning\n",
    "- https://www.nature.com/articles/s41598-018-34455-y \n",
    "- Zahedi, A., On, V., Phandthong, R. et al. Deep Analysis of Mitochondria and Cell Health Using Machine Learning. Sci Rep 8, 16354 (2018). https://doi.org/10.1038/s41598-018-34455-y \n",
    "- Observations consist of:\n",
    "    - different drug conditions\n",
    "    - images of mitochondria\n",
    "    - csv files of the features\n",
    "- List of features\n",
    "    - area\n",
    "    - major axis\n",
    "    - minor axis\n",
    "    - solidity\n",
    "    - perimeter\n",
    "    - max radius\n",
    "    - median radius\n",
    "    - integrated intensity"
   ]
  },
  {
   "cell_type": "markdown",
   "metadata": {},
   "source": [
    "# Proposed Solution\n",
    "\n",
    "The baseline solution for our problem is using KNN (k=5) classification model with an 91% accuracy rate on the testing set. Since the solution was used in the publication alongside a naive Baye's approach, we believe that this established a working solution. It was further validated in the paper using a hand-segmentation process."
   ]
  },
  {
   "cell_type": "markdown",
   "metadata": {},
   "source": [
    "# Evaluation Metrics\n",
    "\n",
    "We plan on using classification accuracy rate to quantify the performance of both the benchmark and solution models. The original paper considers classification accuracy rate to assess their model, so we plan on using the same metric to assess ours. This allows us to make direct comparisons to the findings of the baseline model to ours."
   ]
  },
  {
   "cell_type": "markdown",
   "metadata": {},
   "source": [
    "# Ethics & Privacy"
   ]
  },
  {
   "cell_type": "markdown",
   "metadata": {},
   "source": [
    "Since our data is images of mitochondria, we do not believe there are any glaring ethical concerns. There are no concerns for person-identifying information since the features derive from the physical characteristics observed. To the best of our knowledge, this rules out privacy concerns for our project as well.  "
   ]
  },
  {
   "cell_type": "markdown",
   "metadata": {},
   "source": [
    "# Team Expectations "
   ]
  },
  {
   "cell_type": "markdown",
   "metadata": {},
   "source": [
    "- Quick response times to group chat\n",
    "- Everyone contributes evenly and on time\n",
    "- Show up to meetings \n",
    "- Communicate when issues arise\n",
    "- Assist on tasks when available"
   ]
  },
  {
   "cell_type": "markdown",
   "metadata": {},
   "source": [
    "# Project Timeline Proposal"
   ]
  },
  {
   "cell_type": "markdown",
   "metadata": {},
   "source": [
    "\n",
    "| Meeting Date  | Meeting Time| Completed Before Meeting  | Discuss at Meeting |\n",
    "|---|---|---|---|\n",
    "| 5/20  |  2 PM - 4 PM |  Do literature review; import and wrangle data from article  | Allocate writing sections of the checkpoint to each person| \n",
    "| 5/27  |  2 PM - 4 PM |  Finish checkpoint sections | Review and double-check checkpoint | \n",
    "| 5/31 | All day | Clean up current draft of project | Any changes or additions to be made |\n"
   ]
  },
  {
   "cell_type": "markdown",
   "metadata": {},
   "source": [
    "# Footnotes\n",
    "<a name=\"lorenznote\"></a>1.[^](#zahedi)Zahedi, A., On, V., Phandthong, R. et al. Deep Analysis of Mitochondria and Cell Health Using Machine Learning. Sci Rep 8, 16354 (2018). https://doi.org/10.1038/s41598-018-34455-y \n"
   ]
  }
 ],
 "metadata": {
  "kernelspec": {
   "display_name": "Python 3 (ipykernel)",
   "language": "python",
   "name": "python3"
  },
  "language_info": {
   "codemirror_mode": {
    "name": "ipython",
    "version": 3
   },
   "file_extension": ".py",
   "mimetype": "text/x-python",
   "name": "python",
   "nbconvert_exporter": "python",
   "pygments_lexer": "ipython3",
   "version": "3.9.16"
  }
 },
 "nbformat": 4,
 "nbformat_minor": 2
}
